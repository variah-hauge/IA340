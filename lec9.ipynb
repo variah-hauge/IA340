{
 "cells": [
  {
   "cell_type": "code",
   "execution_count": 2,
   "id": "c03e05a2",
   "metadata": {},
   "outputs": [
    {
     "name": "stdout",
     "output_type": "stream",
     "text": [
      "Requirement already satisfied: pymongo in /home/ec2-user/anaconda3/envs/python3/lib/python3.6/site-packages (3.12.1)\n",
      "\u001b[33mWARNING: You are using pip version 21.2.4; however, version 21.3.1 is available.\n",
      "You should consider upgrading via the '/home/ec2-user/anaconda3/envs/python3/bin/python -m pip install --upgrade pip' command.\u001b[0m\n"
     ]
    }
   ],
   "source": [
    "!pip install pymongo"
   ]
  },
  {
   "cell_type": "code",
   "execution_count": 3,
   "id": "2ceb8c80",
   "metadata": {},
   "outputs": [
    {
     "name": "stdout",
     "output_type": "stream",
     "text": [
      "Requirement already satisfied: pymongo[srv] in /home/ec2-user/anaconda3/envs/python3/lib/python3.6/site-packages (3.12.1)\n",
      "Collecting dnspython<3.0.0,>=1.16.0\n",
      "  Downloading dnspython-2.1.0-py3-none-any.whl (241 kB)\n",
      "\u001b[K     |████████████████████████████████| 241 kB 21.6 MB/s eta 0:00:01\n",
      "\u001b[?25hInstalling collected packages: dnspython\n",
      "Successfully installed dnspython-2.1.0\n",
      "\u001b[33mWARNING: You are using pip version 21.2.4; however, version 21.3.1 is available.\n",
      "You should consider upgrading via the '/home/ec2-user/anaconda3/envs/python3/bin/python -m pip install --upgrade pip' command.\u001b[0m\n"
     ]
    }
   ],
   "source": [
    "!pip install pymongo[srv]"
   ]
  },
  {
   "cell_type": "code",
   "execution_count": 4,
   "id": "f69b8333",
   "metadata": {},
   "outputs": [
    {
     "name": "stdout",
     "output_type": "stream",
     "text": [
      "Requirement already satisfied: dnspython in /home/ec2-user/anaconda3/envs/python3/lib/python3.6/site-packages (2.1.0)\n",
      "\u001b[33mWARNING: You are using pip version 21.2.4; however, version 21.3.1 is available.\n",
      "You should consider upgrading via the '/home/ec2-user/anaconda3/envs/python3/bin/python -m pip install --upgrade pip' command.\u001b[0m\n"
     ]
    }
   ],
   "source": [
    "!pip install dnspython"
   ]
  },
  {
   "cell_type": "code",
   "execution_count": 10,
   "id": "7ad55da9",
   "metadata": {},
   "outputs": [
    {
     "name": "stdout",
     "output_type": "stream",
     "text": [
      "Collecting twitter\n",
      "  Downloading twitter-1.19.3-py2.py3-none-any.whl (50 kB)\n",
      "\u001b[K     |████████████████████████████████| 50 kB 7.6 MB/s  eta 0:00:01\n",
      "\u001b[?25hInstalling collected packages: twitter\n",
      "Successfully installed twitter-1.19.3\n",
      "\u001b[33mWARNING: You are using pip version 21.2.4; however, version 21.3.1 is available.\n",
      "You should consider upgrading via the '/home/ec2-user/anaconda3/envs/python3/bin/python -m pip install --upgrade pip' command.\u001b[0m\n"
     ]
    }
   ],
   "source": [
    "!pip install twitter"
   ]
  },
  {
   "cell_type": "code",
   "execution_count": 11,
   "id": "ec0b7bf8",
   "metadata": {},
   "outputs": [],
   "source": [
    "import pymongo\n",
    "from pymongo import MongoClient\n",
    "import json\n",
    "import tweepy\n",
    "import twitter\n",
    "from pprint import pprint\n",
    "import configparser\n",
    "import pandas as pd"
   ]
  },
  {
   "cell_type": "code",
   "execution_count": 13,
   "id": "e0e8f187",
   "metadata": {},
   "outputs": [],
   "source": [
    "config = configparser.ConfigParser()\n",
    "config.read('config.ini')\n",
    "\n",
    "CONSUMER_KEY      = config['mytwitter']['api_key']\n",
    "CONSUMER_SECRET   = config['mytwitter']['api_secrete']\n",
    "OAUTH_TOKEN       = config['mytwitter']['access_token']\n",
    "OATH_TOKEN_SECRET = config['mytwitter']['access_secrete']\n",
    "\n",
    "mongod_connect = config['mymongo']['connection']"
   ]
  },
  {
   "cell_type": "code",
   "execution_count": 14,
   "id": "5b0e25c4",
   "metadata": {},
   "outputs": [
    {
     "data": {
      "text/plain": [
       "'id_1'"
      ]
     },
     "execution_count": 14,
     "metadata": {},
     "output_type": "execute_result"
    }
   ],
   "source": [
    "client = MongoClient(mongod_connect)\n",
    "db = client.demo # use or create a database named demo\n",
    "tweet_collection = db.tweet_collection #use or create a collection named tweet_collection\n",
    "tweet_collection.create_index([(\"id\", pymongo.ASCENDING)],unique = True) # make sure the collected tweets are unique"
   ]
  },
  {
   "cell_type": "code",
   "execution_count": 15,
   "id": "e9b2fd7b",
   "metadata": {},
   "outputs": [],
   "source": [
    "rest_auth = twitter.oauth.OAuth(OAUTH_TOKEN,OATH_TOKEN_SECRET,CONSUMER_KEY,CONSUMER_SECRET)\n",
    "rest_api = twitter.Twitter(auth=rest_auth)"
   ]
  },
  {
   "cell_type": "code",
   "execution_count": 16,
   "id": "e66ee573",
   "metadata": {},
   "outputs": [],
   "source": [
    "count = 100 #number of returned tweets, default and max is 100\n",
    "geocode = \"38.4392897,-78.9412224,50mi\"  # defin the location, in Harrisonburg, VA\n",
    "q = \"election\"   "
   ]
  },
  {
   "cell_type": "code",
   "execution_count": 17,
   "id": "d732cb18",
   "metadata": {},
   "outputs": [
    {
     "name": "stdout",
     "output_type": "stream",
     "text": [
      "'Mon Nov 01 21:00:59 +0000 2021'\n",
      "'Mon Nov 01 20:53:30 +0000 2021'\n",
      "'Mon Nov 01 20:53:02 +0000 2021'\n",
      "'Mon Nov 01 20:52:26 +0000 2021'\n",
      "'Mon Nov 01 20:37:07 +0000 2021'\n",
      "'Mon Nov 01 20:22:42 +0000 2021'\n",
      "'Mon Nov 01 20:05:11 +0000 2021'\n",
      "'Mon Nov 01 19:25:39 +0000 2021'\n",
      "'Mon Nov 01 19:13:57 +0000 2021'\n",
      "'Mon Nov 01 19:08:46 +0000 2021'\n",
      "'Mon Nov 01 19:07:19 +0000 2021'\n",
      "'Mon Nov 01 19:00:47 +0000 2021'\n",
      "'Mon Nov 01 18:49:22 +0000 2021'\n",
      "'Mon Nov 01 18:33:51 +0000 2021'\n",
      "'Mon Nov 01 18:30:09 +0000 2021'\n",
      "'Mon Nov 01 18:17:19 +0000 2021'\n",
      "'Mon Nov 01 18:08:49 +0000 2021'\n",
      "'Mon Nov 01 18:02:33 +0000 2021'\n",
      "'Mon Nov 01 18:00:10 +0000 2021'\n",
      "'Mon Nov 01 17:59:53 +0000 2021'\n",
      "'Mon Nov 01 17:57:53 +0000 2021'\n",
      "'Mon Nov 01 17:27:06 +0000 2021'\n",
      "'Mon Nov 01 17:18:56 +0000 2021'\n",
      "'Mon Nov 01 17:12:46 +0000 2021'\n",
      "'Mon Nov 01 17:07:01 +0000 2021'\n",
      "'Mon Nov 01 16:57:09 +0000 2021'\n",
      "'Mon Nov 01 16:48:57 +0000 2021'\n",
      "'Mon Nov 01 16:45:07 +0000 2021'\n",
      "'Mon Nov 01 16:42:37 +0000 2021'\n",
      "'Mon Nov 01 16:40:18 +0000 2021'\n",
      "'Mon Nov 01 16:29:51 +0000 2021'\n",
      "'Mon Nov 01 16:29:08 +0000 2021'\n",
      "'Mon Nov 01 16:28:58 +0000 2021'\n",
      "'Mon Nov 01 16:05:00 +0000 2021'\n",
      "'Mon Nov 01 16:02:05 +0000 2021'\n",
      "'Mon Nov 01 15:38:09 +0000 2021'\n",
      "'Mon Nov 01 15:35:33 +0000 2021'\n",
      "'Mon Nov 01 15:12:24 +0000 2021'\n",
      "'Mon Nov 01 15:04:06 +0000 2021'\n",
      "'Mon Nov 01 14:59:37 +0000 2021'\n",
      "'Mon Nov 01 14:32:26 +0000 2021'\n",
      "'Mon Nov 01 14:30:26 +0000 2021'\n",
      "'Mon Nov 01 13:51:08 +0000 2021'\n",
      "'Mon Nov 01 13:47:27 +0000 2021'\n",
      "'Mon Nov 01 13:38:55 +0000 2021'\n",
      "'Mon Nov 01 13:36:56 +0000 2021'\n",
      "'Mon Nov 01 13:13:38 +0000 2021'\n",
      "'Mon Nov 01 13:09:25 +0000 2021'\n",
      "'Mon Nov 01 13:03:43 +0000 2021'\n",
      "'Mon Nov 01 12:56:32 +0000 2021'\n",
      "'Mon Nov 01 12:55:41 +0000 2021'\n",
      "'Mon Nov 01 12:47:27 +0000 2021'\n",
      "'Mon Nov 01 12:47:25 +0000 2021'\n",
      "'Mon Nov 01 12:43:24 +0000 2021'\n",
      "'Mon Nov 01 12:42:01 +0000 2021'\n",
      "'Mon Nov 01 12:41:47 +0000 2021'\n",
      "'Mon Nov 01 12:29:40 +0000 2021'\n",
      "'Mon Nov 01 12:28:45 +0000 2021'\n",
      "'Mon Nov 01 12:18:11 +0000 2021'\n",
      "'Mon Nov 01 12:12:53 +0000 2021'\n",
      "'Mon Nov 01 12:04:15 +0000 2021'\n",
      "'Mon Nov 01 12:02:05 +0000 2021'\n",
      "'Mon Nov 01 10:00:31 +0000 2021'\n",
      "'Mon Nov 01 06:55:33 +0000 2021'\n",
      "'Mon Nov 01 02:52:58 +0000 2021'\n",
      "'Mon Nov 01 02:52:55 +0000 2021'\n",
      "'Mon Nov 01 02:52:41 +0000 2021'\n",
      "'Mon Nov 01 02:52:40 +0000 2021'\n",
      "'Mon Nov 01 02:40:00 +0000 2021'\n",
      "'Mon Nov 01 01:19:06 +0000 2021'\n",
      "'Mon Nov 01 00:48:40 +0000 2021'\n",
      "'Mon Nov 01 00:31:28 +0000 2021'\n",
      "'Sun Oct 31 23:42:36 +0000 2021'\n",
      "'Sun Oct 31 23:41:28 +0000 2021'\n",
      "'Sun Oct 31 23:36:00 +0000 2021'\n",
      "'Sun Oct 31 23:34:29 +0000 2021'\n",
      "'Sun Oct 31 23:24:49 +0000 2021'\n",
      "'Sun Oct 31 23:23:36 +0000 2021'\n",
      "'Sun Oct 31 23:22:06 +0000 2021'\n",
      "'Sun Oct 31 22:47:38 +0000 2021'\n",
      "'Sun Oct 31 21:56:21 +0000 2021'\n",
      "'Sun Oct 31 21:45:29 +0000 2021'\n",
      "'Sun Oct 31 21:36:54 +0000 2021'\n",
      "'Sun Oct 31 21:33:15 +0000 2021'\n",
      "'Sun Oct 31 20:21:24 +0000 2021'\n",
      "'Sun Oct 31 20:06:35 +0000 2021'\n",
      "'Sun Oct 31 19:13:01 +0000 2021'\n",
      "'Sun Oct 31 19:05:07 +0000 2021'\n",
      "'Sun Oct 31 18:53:15 +0000 2021'\n",
      "'Sun Oct 31 18:43:43 +0000 2021'\n",
      "'Sun Oct 31 18:41:39 +0000 2021'\n",
      "'Sun Oct 31 18:16:00 +0000 2021'\n",
      "'Sun Oct 31 17:57:46 +0000 2021'\n",
      "'Sun Oct 31 17:24:00 +0000 2021'\n",
      "'Sun Oct 31 17:11:33 +0000 2021'\n",
      "'Sun Oct 31 17:08:45 +0000 2021'\n",
      "'Sun Oct 31 16:36:12 +0000 2021'\n",
      "'Sun Oct 31 16:21:43 +0000 2021'\n",
      "'Sun Oct 31 16:20:05 +0000 2021'\n",
      "'Sun Oct 31 16:07:03 +0000 2021'\n"
     ]
    }
   ],
   "source": [
    "search_results = rest_api.search.tweets( count=count,q=q, geocode=geocode) #you can use both q and geocode\n",
    "statuses = search_results[\"statuses\"]\n",
    "since_id_new = statuses[-1]['id']\n",
    "for statuse in statuses:\n",
    "    try:\n",
    "        tweet_collection.insert_one(statuse)\n",
    "        pprint(statuse['created_at'])# print the date of the collected tweets\n",
    "    except:\n",
    "        pass"
   ]
  },
  {
   "cell_type": "code",
   "execution_count": null,
   "id": "4a60d7c4",
   "metadata": {},
   "outputs": [],
   "source": []
  }
 ],
 "metadata": {
  "kernelspec": {
   "display_name": "conda_python3",
   "language": "python",
   "name": "conda_python3"
  },
  "language_info": {
   "codemirror_mode": {
    "name": "ipython",
    "version": 3
   },
   "file_extension": ".py",
   "mimetype": "text/x-python",
   "name": "python",
   "nbconvert_exporter": "python",
   "pygments_lexer": "ipython3",
   "version": "3.6.13"
  }
 },
 "nbformat": 4,
 "nbformat_minor": 5
}
