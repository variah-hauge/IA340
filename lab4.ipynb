{
 "cells": [
  {
   "cell_type": "markdown",
   "id": "e05dc092",
   "metadata": {},
   "source": [
    "# Lec4"
   ]
  },
  {
   "cell_type": "markdown",
   "id": "c173eb67",
   "metadata": {},
   "source": [
    "## import python libs"
   ]
  },
  {
   "cell_type": "code",
   "execution_count": 62,
   "id": "61b9b8d7",
   "metadata": {
    "scrolled": true
   },
   "outputs": [],
   "source": [
    "import pandas\n",
    "import configparser\n",
    "import psycopg2"
   ]
  },
  {
   "cell_type": "markdown",
   "id": "6d9bdd48",
   "metadata": {},
   "source": [
    "## connect to db"
   ]
  },
  {
   "cell_type": "code",
   "execution_count": 63,
   "id": "69529fb0",
   "metadata": {},
   "outputs": [],
   "source": [
    "config = configparser.ConfigParser()\n",
    "config.read('config.ini')\n",
    "\n",
    "host=config['myaws']['host']\n",
    "db=config['myaws']['db']\n",
    "user=config['myaws']['user']\n",
    "pwd = config['myaws']['pwd']\n",
    "\n",
    "conn = psycopg2.connect(  host=host,\n",
    "                       user=user,\n",
    "                       password = pwd,\n",
    "                       dbname=db)"
   ]
  },
  {
   "cell_type": "code",
   "execution_count": 64,
   "id": "45151782",
   "metadata": {},
   "outputs": [],
   "source": [
    "cur=conn.cursor()"
   ]
  },
  {
   "cell_type": "markdown",
   "id": "1f54a41c",
   "metadata": {},
   "source": [
    "# Q1"
   ]
  },
  {
   "cell_type": "code",
   "execution_count": 65,
   "id": "af1e1049",
   "metadata": {},
   "outputs": [],
   "source": [
    "q1_sql = \"\"\"\n",
    "            select * from gp6.student \n",
    "\"\"\""
   ]
  },
  {
   "cell_type": "code",
   "execution_count": 66,
   "id": "04115251",
   "metadata": {},
   "outputs": [
    {
     "data": {
      "text/html": [
       "<div>\n",
       "<style scoped>\n",
       "    .dataframe tbody tr th:only-of-type {\n",
       "        vertical-align: middle;\n",
       "    }\n",
       "\n",
       "    .dataframe tbody tr th {\n",
       "        vertical-align: top;\n",
       "    }\n",
       "\n",
       "    .dataframe thead th {\n",
       "        text-align: right;\n",
       "    }\n",
       "</style>\n",
       "<table border=\"1\" class=\"dataframe\">\n",
       "  <thead>\n",
       "    <tr style=\"text-align: right;\">\n",
       "      <th></th>\n",
       "      <th>s_email</th>\n",
       "      <th>s_name</th>\n",
       "      <th>major</th>\n",
       "    </tr>\n",
       "  </thead>\n",
       "  <tbody>\n",
       "    <tr>\n",
       "      <th>0</th>\n",
       "      <td>toriwhite@jmu.edu</td>\n",
       "      <td>Tori White</td>\n",
       "      <td>IA</td>\n",
       "    </tr>\n",
       "    <tr>\n",
       "      <th>1</th>\n",
       "      <td>marksmith@jmu.edu</td>\n",
       "      <td>Mark Smith</td>\n",
       "      <td>IA</td>\n",
       "    </tr>\n",
       "    <tr>\n",
       "      <th>2</th>\n",
       "      <td>sarablack@jmu.edu</td>\n",
       "      <td>Sara Black</td>\n",
       "      <td>IA</td>\n",
       "    </tr>\n",
       "    <tr>\n",
       "      <th>3</th>\n",
       "      <td>billjones@jmu.edu</td>\n",
       "      <td>Bill Jones</td>\n",
       "      <td>IA</td>\n",
       "    </tr>\n",
       "  </tbody>\n",
       "</table>\n",
       "</div>"
      ],
      "text/plain": [
       "             s_email       s_name major\n",
       "0  toriwhite@jmu.edu   Tori White    IA\n",
       "1  marksmith@jmu.edu  Mark Smith     IA\n",
       "2  sarablack@jmu.edu   Sara Black    IA\n",
       "3  billjones@jmu.edu   Bill Jones    IA"
      ]
     },
     "execution_count": 66,
     "metadata": {},
     "output_type": "execute_result"
    }
   ],
   "source": [
    "df_student=pandas.read_sql_query(q1_sql,conn)\n",
    "df_student[:]"
   ]
  },
  {
   "cell_type": "markdown",
   "id": "dcab73c9",
   "metadata": {},
   "source": [
    "## Q2"
   ]
  },
  {
   "cell_type": "code",
   "execution_count": 67,
   "id": "54b7f981",
   "metadata": {},
   "outputs": [
    {
     "name": "stdout",
     "output_type": "stream",
     "text": [
      "\n",
      "                select gp6.professor.p_name,\n",
      "                    gp6.course.c_name \n",
      "                from gp6.professor\n",
      "                inner join gp6.course\n",
      "                on gp6.professor.p_email = gp6.course.p_email\n",
      "                \n",
      "                \n"
     ]
    }
   ],
   "source": [
    "q2_sql = \"\"\"\n",
    "                select gp6.professor.p_name,\n",
    "                    gp6.course.c_name \n",
    "                from gp6.professor\n",
    "                inner join gp6.course\n",
    "                on gp6.professor.p_email = gp6.course.p_email\n",
    "                \n",
    "                \"\"\"\n",
    "\n",
    "print(q2_sql)"
   ]
  },
  {
   "cell_type": "code",
   "execution_count": 101,
   "id": "3138ab0a",
   "metadata": {
    "scrolled": false
   },
   "outputs": [
    {
     "data": {
      "text/html": [
       "<div>\n",
       "<style scoped>\n",
       "    .dataframe tbody tr th:only-of-type {\n",
       "        vertical-align: middle;\n",
       "    }\n",
       "\n",
       "    .dataframe tbody tr th {\n",
       "        vertical-align: top;\n",
       "    }\n",
       "\n",
       "    .dataframe thead th {\n",
       "        text-align: right;\n",
       "    }\n",
       "</style>\n",
       "<table border=\"1\" class=\"dataframe\">\n",
       "  <thead>\n",
       "    <tr style=\"text-align: right;\">\n",
       "      <th></th>\n",
       "      <th>p_name</th>\n",
       "      <th>c_name</th>\n",
       "    </tr>\n",
       "  </thead>\n",
       "  <tbody>\n",
       "    <tr>\n",
       "      <th>0</th>\n",
       "      <td>Stephen Marrin</td>\n",
       "      <td>Issues in Intelligence</td>\n",
       "    </tr>\n",
       "    <tr>\n",
       "      <th>1</th>\n",
       "      <td>Orlandrew Danzell</td>\n",
       "      <td>Anti-Money Laundering</td>\n",
       "    </tr>\n",
       "    <tr>\n",
       "      <th>2</th>\n",
       "      <td>Noel Hendrickson</td>\n",
       "      <td>Counterfactual Reasoning</td>\n",
       "    </tr>\n",
       "    <tr>\n",
       "      <th>3</th>\n",
       "      <td>Kathleen Moore</td>\n",
       "      <td>Cyber Intelligence</td>\n",
       "    </tr>\n",
       "    <tr>\n",
       "      <th>4</th>\n",
       "      <td>Kathleen Moore</td>\n",
       "      <td>Data Mining</td>\n",
       "    </tr>\n",
       "  </tbody>\n",
       "</table>\n",
       "</div>"
      ],
      "text/plain": [
       "              p_name                    c_name\n",
       "0     Stephen Marrin    Issues in Intelligence\n",
       "1  Orlandrew Danzell     Anti-Money Laundering\n",
       "2   Noel Hendrickson  Counterfactual Reasoning\n",
       "3     Kathleen Moore        Cyber Intelligence\n",
       "4     Kathleen Moore               Data Mining"
      ]
     },
     "execution_count": 101,
     "metadata": {},
     "output_type": "execute_result"
    }
   ],
   "source": [
    "df=pandas.read_sql_query(q2_sql,conn)\n",
    "df[:]"
   ]
  },
  {
   "cell_type": "markdown",
   "id": "7b64474d",
   "metadata": {},
   "source": [
    "## Q3"
   ]
  },
  {
   "cell_type": "code",
   "execution_count": 103,
   "id": "3494f919",
   "metadata": {},
   "outputs": [],
   "source": [
    "q3_sql = \"\"\"\n",
    "                select count(c_num) as enrolled, \n",
    "                c_num \n",
    "                from gp6.enroll_list\n",
    "                group by c_num\n",
    "        \"\"\""
   ]
  },
  {
   "cell_type": "code",
   "execution_count": 104,
   "id": "49aba2b2",
   "metadata": {},
   "outputs": [
    {
     "data": {
      "text/plain": [
       "<AxesSubplot:xlabel='c_num'>"
      ]
     },
     "execution_count": 104,
     "metadata": {},
     "output_type": "execute_result"
    },
    {
     "data": {
      "image/png": "[encoded data removed]",
      "text/plain": [
       "<Figure size 432x288 with 1 Axes>"
      ]
     },
     "metadata": {
      "needs_background": "light"
     },
     "output_type": "display_data"
    }
   ],
   "source": [
    "df = pandas.read_sql_query(q3_sql,conn)\n",
    "df.plot.bar(x='c_num',y='enrolled')"
   ]
  },
  {
   "cell_type": "markdown",
   "id": "520cc168",
   "metadata": {},
   "source": [
    "## Q4"
   ]
  },
  {
   "cell_type": "code",
   "execution_count": 105,
   "id": "9574e0fe",
   "metadata": {},
   "outputs": [
    {
     "name": "stdout",
     "output_type": "stream",
     "text": [
      "\n",
      "                select gp6.professor.p_name,\n",
      "                    count(gp6.course.c_name) as num_c\n",
      "                from gp6.professor\n",
      "                inner join gp6.course\n",
      "                on gp6.professor.p_email = gp6.course.p_email\n",
      "                group by gp6.professor.p_name\n",
      "                order by num_c desc\n",
      "                \n"
     ]
    }
   ],
   "source": [
    "q4_sql = \"\"\"\n",
    "                select gp6.professor.p_name,\n",
    "                    count(gp6.course.c_name) as num_c\n",
    "                from gp6.professor\n",
    "                inner join gp6.course\n",
    "                on gp6.professor.p_email = gp6.course.p_email\n",
    "                group by gp6.professor.p_name\n",
    "                order by num_c desc\n",
    "                \"\"\"\n",
    "\n",
    "print(q4_sql)"
   ]
  },
  {
   "cell_type": "code",
   "execution_count": 106,
   "id": "38766115",
   "metadata": {},
   "outputs": [
    {
     "data": {
      "text/html": [
       "<div>\n",
       "<style scoped>\n",
       "    .dataframe tbody tr th:only-of-type {\n",
       "        vertical-align: middle;\n",
       "    }\n",
       "\n",
       "    .dataframe tbody tr th {\n",
       "        vertical-align: top;\n",
       "    }\n",
       "\n",
       "    .dataframe thead th {\n",
       "        text-align: right;\n",
       "    }\n",
       "</style>\n",
       "<table border=\"1\" class=\"dataframe\">\n",
       "  <thead>\n",
       "    <tr style=\"text-align: right;\">\n",
       "      <th></th>\n",
       "      <th>p_name</th>\n",
       "      <th>num_c</th>\n",
       "    </tr>\n",
       "  </thead>\n",
       "  <tbody>\n",
       "    <tr>\n",
       "      <th>0</th>\n",
       "      <td>Kathleen Moore</td>\n",
       "      <td>2</td>\n",
       "    </tr>\n",
       "    <tr>\n",
       "      <th>1</th>\n",
       "      <td>Noel Hendrickson</td>\n",
       "      <td>1</td>\n",
       "    </tr>\n",
       "    <tr>\n",
       "      <th>2</th>\n",
       "      <td>Stephen Marrin</td>\n",
       "      <td>1</td>\n",
       "    </tr>\n",
       "    <tr>\n",
       "      <th>3</th>\n",
       "      <td>Orlandrew Danzell</td>\n",
       "      <td>1</td>\n",
       "    </tr>\n",
       "  </tbody>\n",
       "</table>\n",
       "</div>"
      ],
      "text/plain": [
       "              p_name  num_c\n",
       "0     Kathleen Moore      2\n",
       "1   Noel Hendrickson      1\n",
       "2     Stephen Marrin      1\n",
       "3  Orlandrew Danzell      1"
      ]
     },
     "execution_count": 106,
     "metadata": {},
     "output_type": "execute_result"
    }
   ],
   "source": [
    "df = pandas.read_sql_query(q4_sql,conn)\n",
    "df[:]"
   ]
  },
  {
   "cell_type": "code",
   "execution_count": 107,
   "id": "b92ad07f",
   "metadata": {},
   "outputs": [
    {
     "data": {
      "text/plain": [
       "<AxesSubplot:xlabel='p_name'>"
      ]
     },
     "execution_count": 107,
     "metadata": {},
     "output_type": "execute_result"
    },
    {
     "data": {
      "image/png": "[encoded data removed]",
      "text/plain": [
       "<Figure size 432x288 with 1 Axes>"
      ]
     },
     "metadata": {
      "needs_background": "light"
     },
     "output_type": "display_data"
    }
   ],
   "source": [
    "df = pandas.read_sql_query(q4_sql,conn)\n",
    "df.plot.bar(x='p_name',y='num_c')"
   ]
  },
  {
   "cell_type": "markdown",
   "id": "d3610525",
   "metadata": {},
   "source": [
    "## q5"
   ]
  },
  {
   "cell_type": "code",
   "execution_count": 129,
   "id": "f3bf51c9",
   "metadata": {},
   "outputs": [
    {
     "name": "stdout",
     "output_type": "stream",
     "text": [
      "\n",
      "            insert into gp6.professor(p_email, p_name, p_office)\n",
      "            values ('weixx@jmu.edu','Xuebin Wei','isat/cs112')\n",
      "            \n"
     ]
    }
   ],
   "source": [
    "q5_sql_professor = \"\"\"\n",
    "            insert into gp6.professor(p_email, p_name, p_office)\n",
    "            values ('{}','{}','{}')\n",
    "            \"\"\".format('weixx@jmu.edu', 'Xuebin Wei', 'isat/cs112')\n",
    "                    \n",
    "print(q5_sql_professor)"
   ]
  },
  {
   "cell_type": "code",
   "execution_count": 130,
   "id": "ae26b31f",
   "metadata": {},
   "outputs": [],
   "source": [
    "cur.execute(q5_sql_professor)"
   ]
  },
  {
   "cell_type": "code",
   "execution_count": 131,
   "id": "b4f2978b",
   "metadata": {},
   "outputs": [],
   "source": [
    "conn.commit()"
   ]
  },
  {
   "cell_type": "code",
   "execution_count": 132,
   "id": "d9d77f22",
   "metadata": {},
   "outputs": [
    {
     "data": {
      "text/html": [
       "<div>\n",
       "<style scoped>\n",
       "    .dataframe tbody tr th:only-of-type {\n",
       "        vertical-align: middle;\n",
       "    }\n",
       "\n",
       "    .dataframe tbody tr th {\n",
       "        vertical-align: top;\n",
       "    }\n",
       "\n",
       "    .dataframe thead th {\n",
       "        text-align: right;\n",
       "    }\n",
       "</style>\n",
       "<table border=\"1\" class=\"dataframe\">\n",
       "  <thead>\n",
       "    <tr style=\"text-align: right;\">\n",
       "      <th></th>\n",
       "      <th>p_email</th>\n",
       "      <th>p_name</th>\n",
       "      <th>p_office</th>\n",
       "    </tr>\n",
       "  </thead>\n",
       "  <tbody>\n",
       "    <tr>\n",
       "      <th>0</th>\n",
       "      <td>danzelox@jmu.edu</td>\n",
       "      <td>Orlandrew Danzell</td>\n",
       "      <td>isat/cs107</td>\n",
       "    </tr>\n",
       "    <tr>\n",
       "      <th>1</th>\n",
       "      <td>hendrinx@jmu.edu</td>\n",
       "      <td>Noel Hendrickson</td>\n",
       "      <td>isat/cs317</td>\n",
       "    </tr>\n",
       "    <tr>\n",
       "      <th>2</th>\n",
       "      <td>marrinsp@jmu.edu</td>\n",
       "      <td>Stephen Marrin</td>\n",
       "      <td>engeo2104</td>\n",
       "    </tr>\n",
       "    <tr>\n",
       "      <th>3</th>\n",
       "      <td>moore8ka@jmu.edu</td>\n",
       "      <td>Kathleen Moore</td>\n",
       "      <td>isat/cs116</td>\n",
       "    </tr>\n",
       "    <tr>\n",
       "      <th>4</th>\n",
       "      <td>weixx@jmu.edu</td>\n",
       "      <td>Xuebin Wei</td>\n",
       "      <td>isat/cs112</td>\n",
       "    </tr>\n",
       "  </tbody>\n",
       "</table>\n",
       "</div>"
      ],
      "text/plain": [
       "            p_email             p_name    p_office\n",
       "0  danzelox@jmu.edu  Orlandrew Danzell  isat/cs107\n",
       "1  hendrinx@jmu.edu   Noel Hendrickson  isat/cs317\n",
       "2  marrinsp@jmu.edu     Stephen Marrin   engeo2104\n",
       "3  moore8ka@jmu.edu     Kathleen Moore  isat/cs116\n",
       "4     weixx@jmu.edu         Xuebin Wei  isat/cs112"
      ]
     },
     "execution_count": 132,
     "metadata": {},
     "output_type": "execute_result"
    }
   ],
   "source": [
    "df = pandas.read_sql_query('select * from gp6.professor',conn)\n",
    "\n",
    "df[:]"
   ]
  },
  {
   "cell_type": "code",
   "execution_count": 158,
   "id": "69a10c8a",
   "metadata": {
    "scrolled": true
   },
   "outputs": [
    {
     "name": "stdout",
     "output_type": "stream",
     "text": [
      "\n",
      "                insert into gp6.course(c_num, c_name, c_room, p_email)\n",
      "                values ('IA241','Intro to Python','virtual','weixx@jmu.edu')\n",
      "                \n"
     ]
    }
   ],
   "source": [
    "q5_sql_course = \"\"\"\n",
    "                insert into gp6.course(c_num, c_name, c_room, p_email)\n",
    "                values ('{}','{}','{}','{}')\n",
    "                \"\"\".format('IA241', 'Intro to Python', 'virtual', 'weixx@jmu.edu')\n",
    "         \n",
    "print(q5_sql_course)"
   ]
  },
  {
   "cell_type": "code",
   "execution_count": 160,
   "id": "615314b3",
   "metadata": {},
   "outputs": [],
   "source": [
    "cur.execute(q5_sql_course)"
   ]
  },
  {
   "cell_type": "code",
   "execution_count": 161,
   "id": "6798f083",
   "metadata": {},
   "outputs": [],
   "source": [
    "conn.commit()"
   ]
  },
  {
   "cell_type": "code",
   "execution_count": 162,
   "id": "bfc18077",
   "metadata": {},
   "outputs": [
    {
     "data": {
      "text/html": [
       "<div>\n",
       "<style scoped>\n",
       "    .dataframe tbody tr th:only-of-type {\n",
       "        vertical-align: middle;\n",
       "    }\n",
       "\n",
       "    .dataframe tbody tr th {\n",
       "        vertical-align: top;\n",
       "    }\n",
       "\n",
       "    .dataframe thead th {\n",
       "        text-align: right;\n",
       "    }\n",
       "</style>\n",
       "<table border=\"1\" class=\"dataframe\">\n",
       "  <thead>\n",
       "    <tr style=\"text-align: right;\">\n",
       "      <th></th>\n",
       "      <th>c_num</th>\n",
       "      <th>c_name</th>\n",
       "      <th>c_room</th>\n",
       "      <th>p_email</th>\n",
       "    </tr>\n",
       "  </thead>\n",
       "  <tbody>\n",
       "    <tr>\n",
       "      <th>0</th>\n",
       "      <td>IA300</td>\n",
       "      <td>Issues in Intelligence</td>\n",
       "      <td>isat/cs150</td>\n",
       "      <td>marrinsp@jmu.edu</td>\n",
       "    </tr>\n",
       "    <tr>\n",
       "      <th>1</th>\n",
       "      <td>IA480</td>\n",
       "      <td>Anti-Money Laundering</td>\n",
       "      <td>isat/cs148</td>\n",
       "      <td>danzelox@jmu.edu</td>\n",
       "    </tr>\n",
       "    <tr>\n",
       "      <th>2</th>\n",
       "      <td>IA313</td>\n",
       "      <td>Counterfactual Reasoning</td>\n",
       "      <td>engeo1204</td>\n",
       "      <td>hendrinx@jmu.edu</td>\n",
       "    </tr>\n",
       "    <tr>\n",
       "      <th>3</th>\n",
       "      <td>IA365</td>\n",
       "      <td>Cyber Intelligence</td>\n",
       "      <td>virtual</td>\n",
       "      <td>moore8ka@jmu.edu</td>\n",
       "    </tr>\n",
       "    <tr>\n",
       "      <th>4</th>\n",
       "      <td>IA340</td>\n",
       "      <td>Data Mining</td>\n",
       "      <td>hhs112</td>\n",
       "      <td>moore8ka@jmu.edu</td>\n",
       "    </tr>\n",
       "    <tr>\n",
       "      <th>5</th>\n",
       "      <td>IA241</td>\n",
       "      <td>Intro to Python</td>\n",
       "      <td>virtual</td>\n",
       "      <td>weixx@jmu.edu</td>\n",
       "    </tr>\n",
       "  </tbody>\n",
       "</table>\n",
       "</div>"
      ],
      "text/plain": [
       "   c_num                    c_name      c_room           p_email\n",
       "0  IA300    Issues in Intelligence  isat/cs150  marrinsp@jmu.edu\n",
       "1  IA480     Anti-Money Laundering  isat/cs148  danzelox@jmu.edu\n",
       "2  IA313  Counterfactual Reasoning   engeo1204  hendrinx@jmu.edu\n",
       "3  IA365        Cyber Intelligence     virtual  moore8ka@jmu.edu\n",
       "4  IA340               Data Mining      hhs112  moore8ka@jmu.edu\n",
       "5  IA241           Intro to Python     virtual     weixx@jmu.edu"
      ]
     },
     "execution_count": 162,
     "metadata": {},
     "output_type": "execute_result"
    }
   ],
   "source": [
    "df = pandas.read_sql_query('select * from gp6.course',conn)\n",
    "\n",
    "df[:]"
   ]
  },
  {
   "cell_type": "markdown",
   "id": "e8606b19",
   "metadata": {},
   "source": [
    "## Q6"
   ]
  },
  {
   "cell_type": "code",
   "execution_count": 166,
   "id": "7d7b6fa6",
   "metadata": {},
   "outputs": [
    {
     "name": "stdout",
     "output_type": "stream",
     "text": [
      "\n",
      "                    update gp6.course\n",
      "                    set p_email = 'weixx@jmu.edu'\n",
      "                    where p_email = 'moore8ka@jmu.edu'\n",
      "                 \n"
     ]
    }
   ],
   "source": [
    "q6_sql_course = \"\"\"\n",
    "                    update gp6.course\n",
    "                    set p_email = '{}'\n",
    "                    where p_email = '{}'\n",
    "                 \"\"\".format('weixx@jmu.edu','moore8ka@jmu.edu')\n",
    "print(q6_sql_course)"
   ]
  },
  {
   "cell_type": "code",
   "execution_count": 167,
   "id": "c1661f60",
   "metadata": {},
   "outputs": [],
   "source": [
    "cur.execute(q6_sql_course)"
   ]
  },
  {
   "cell_type": "code",
   "execution_count": 168,
   "id": "bd6e0a9c",
   "metadata": {},
   "outputs": [],
   "source": [
    "conn.commit()"
   ]
  },
  {
   "cell_type": "code",
   "execution_count": 169,
   "id": "50997059",
   "metadata": {},
   "outputs": [
    {
     "data": {
      "text/html": [
       "<div>\n",
       "<style scoped>\n",
       "    .dataframe tbody tr th:only-of-type {\n",
       "        vertical-align: middle;\n",
       "    }\n",
       "\n",
       "    .dataframe tbody tr th {\n",
       "        vertical-align: top;\n",
       "    }\n",
       "\n",
       "    .dataframe thead th {\n",
       "        text-align: right;\n",
       "    }\n",
       "</style>\n",
       "<table border=\"1\" class=\"dataframe\">\n",
       "  <thead>\n",
       "    <tr style=\"text-align: right;\">\n",
       "      <th></th>\n",
       "      <th>c_num</th>\n",
       "      <th>c_name</th>\n",
       "      <th>c_room</th>\n",
       "      <th>p_email</th>\n",
       "    </tr>\n",
       "  </thead>\n",
       "  <tbody>\n",
       "    <tr>\n",
       "      <th>0</th>\n",
       "      <td>IA300</td>\n",
       "      <td>Issues in Intelligence</td>\n",
       "      <td>isat/cs150</td>\n",
       "      <td>marrinsp@jmu.edu</td>\n",
       "    </tr>\n",
       "    <tr>\n",
       "      <th>1</th>\n",
       "      <td>IA480</td>\n",
       "      <td>Anti-Money Laundering</td>\n",
       "      <td>isat/cs148</td>\n",
       "      <td>danzelox@jmu.edu</td>\n",
       "    </tr>\n",
       "    <tr>\n",
       "      <th>2</th>\n",
       "      <td>IA313</td>\n",
       "      <td>Counterfactual Reasoning</td>\n",
       "      <td>engeo1204</td>\n",
       "      <td>hendrinx@jmu.edu</td>\n",
       "    </tr>\n",
       "    <tr>\n",
       "      <th>3</th>\n",
       "      <td>IA241</td>\n",
       "      <td>Intro to Python</td>\n",
       "      <td>virtual</td>\n",
       "      <td>weixx@jmu.edu</td>\n",
       "    </tr>\n",
       "    <tr>\n",
       "      <th>4</th>\n",
       "      <td>IA365</td>\n",
       "      <td>Cyber Intelligence</td>\n",
       "      <td>virtual</td>\n",
       "      <td>weixx@jmu.edu</td>\n",
       "    </tr>\n",
       "    <tr>\n",
       "      <th>5</th>\n",
       "      <td>IA340</td>\n",
       "      <td>Data Mining</td>\n",
       "      <td>hhs112</td>\n",
       "      <td>weixx@jmu.edu</td>\n",
       "    </tr>\n",
       "  </tbody>\n",
       "</table>\n",
       "</div>"
      ],
      "text/plain": [
       "   c_num                    c_name      c_room           p_email\n",
       "0  IA300    Issues in Intelligence  isat/cs150  marrinsp@jmu.edu\n",
       "1  IA480     Anti-Money Laundering  isat/cs148  danzelox@jmu.edu\n",
       "2  IA313  Counterfactual Reasoning   engeo1204  hendrinx@jmu.edu\n",
       "3  IA241           Intro to Python     virtual     weixx@jmu.edu\n",
       "4  IA365        Cyber Intelligence     virtual     weixx@jmu.edu\n",
       "5  IA340               Data Mining      hhs112     weixx@jmu.edu"
      ]
     },
     "execution_count": 169,
     "metadata": {},
     "output_type": "execute_result"
    }
   ],
   "source": [
    "df = pandas.read_sql_query('select * from gp6.course',conn)\n",
    "\n",
    "df[:]"
   ]
  },
  {
   "cell_type": "code",
   "execution_count": 175,
   "id": "6a6d8980",
   "metadata": {},
   "outputs": [
    {
     "name": "stdout",
     "output_type": "stream",
     "text": [
      "\n",
      "                      delete from gp6.professor \n",
      "                      where p_email = 'moore8ka@jmu.edu'\n",
      "                      \n"
     ]
    }
   ],
   "source": [
    "q6_sql_professor = \"\"\"\n",
    "                      delete from gp6.professor \n",
    "                      where p_email = 'moore8ka@jmu.edu'\n",
    "                      \"\"\"\n",
    "print(q6_sql_professor)"
   ]
  },
  {
   "cell_type": "code",
   "execution_count": 176,
   "id": "0d8a2555",
   "metadata": {},
   "outputs": [],
   "source": [
    "cur.execute(q6_sql_professor)"
   ]
  },
  {
   "cell_type": "code",
   "execution_count": 177,
   "id": "e4dfaa7b",
   "metadata": {},
   "outputs": [],
   "source": [
    "conn.commit()"
   ]
  },
  {
   "cell_type": "code",
   "execution_count": 178,
   "id": "412798a6",
   "metadata": {},
   "outputs": [
    {
     "data": {
      "text/html": [
       "<div>\n",
       "<style scoped>\n",
       "    .dataframe tbody tr th:only-of-type {\n",
       "        vertical-align: middle;\n",
       "    }\n",
       "\n",
       "    .dataframe tbody tr th {\n",
       "        vertical-align: top;\n",
       "    }\n",
       "\n",
       "    .dataframe thead th {\n",
       "        text-align: right;\n",
       "    }\n",
       "</style>\n",
       "<table border=\"1\" class=\"dataframe\">\n",
       "  <thead>\n",
       "    <tr style=\"text-align: right;\">\n",
       "      <th></th>\n",
       "      <th>p_email</th>\n",
       "      <th>p_name</th>\n",
       "      <th>p_office</th>\n",
       "    </tr>\n",
       "  </thead>\n",
       "  <tbody>\n",
       "    <tr>\n",
       "      <th>0</th>\n",
       "      <td>danzelox@jmu.edu</td>\n",
       "      <td>Orlandrew Danzell</td>\n",
       "      <td>isat/cs107</td>\n",
       "    </tr>\n",
       "    <tr>\n",
       "      <th>1</th>\n",
       "      <td>hendrinx@jmu.edu</td>\n",
       "      <td>Noel Hendrickson</td>\n",
       "      <td>isat/cs317</td>\n",
       "    </tr>\n",
       "    <tr>\n",
       "      <th>2</th>\n",
       "      <td>marrinsp@jmu.edu</td>\n",
       "      <td>Stephen Marrin</td>\n",
       "      <td>engeo2104</td>\n",
       "    </tr>\n",
       "    <tr>\n",
       "      <th>3</th>\n",
       "      <td>weixx@jmu.edu</td>\n",
       "      <td>Xuebin Wei</td>\n",
       "      <td>isat/cs112</td>\n",
       "    </tr>\n",
       "  </tbody>\n",
       "</table>\n",
       "</div>"
      ],
      "text/plain": [
       "            p_email             p_name    p_office\n",
       "0  danzelox@jmu.edu  Orlandrew Danzell  isat/cs107\n",
       "1  hendrinx@jmu.edu   Noel Hendrickson  isat/cs317\n",
       "2  marrinsp@jmu.edu     Stephen Marrin   engeo2104\n",
       "3     weixx@jmu.edu         Xuebin Wei  isat/cs112"
      ]
     },
     "execution_count": 178,
     "metadata": {},
     "output_type": "execute_result"
    }
   ],
   "source": [
    "df = pandas.read_sql_query('select * from gp6.professor',conn)\n",
    "\n",
    "df[:]"
   ]
  }
 ],
 "metadata": {
  "kernelspec": {
   "display_name": "conda_python3",
   "language": "python",
   "name": "conda_python3"
  },
  "language_info": {
   "codemirror_mode": {
    "name": "ipython",
    "version": 3
   },
   "file_extension": ".py",
   "mimetype": "text/x-python",
   "name": "python",
   "nbconvert_exporter": "python",
   "pygments_lexer": "ipython3",
   "version": "3.6.13"
  }
 },
 "nbformat": 4,
 "nbformat_minor": 5
}
